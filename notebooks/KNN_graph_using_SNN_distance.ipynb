{
 "cells": [
  {
   "cell_type": "code",
   "execution_count": 1,
   "metadata": {
    "scrolled": false
   },
   "outputs": [],
   "source": [
    "import numpy as np\n",
    "from pynndescent import NNDescent\n",
    "from sklearn.neighbors import NearestNeighbors\n",
    "from multiprocessing import cpu_count\n",
    "from metrics_custom import (\n",
    "    distance_SNN,  \n",
    "    remove_self_neighbors\n",
    ")\n",
    "from generate_data import MFA_model"
   ]
  },
  {
   "cell_type": "code",
   "execution_count": 2,
   "metadata": {},
   "outputs": [],
   "source": [
    "# Suppress annoying numba warning\n",
    "import warnings\n",
    "from numba import NumbaPendingDeprecationWarning\n",
    "warnings.filterwarnings('ignore', '', NumbaPendingDeprecationWarning)"
   ]
  },
  {
   "cell_type": "code",
   "execution_count": 3,
   "metadata": {},
   "outputs": [],
   "source": [
    "# Define some constants\n",
    "num_proc = max(cpu_count() - 2, 1)\n",
    "seed_rng = np.random.randint(1, high=10000)\n",
    "K = 20\n",
    "n_neighbors = max(K + 2, 20)\n",
    "rho = 0.5\n",
    "metric_primary = 'cosine'"
   ]
  },
  {
   "cell_type": "code",
   "execution_count": 4,
   "metadata": {},
   "outputs": [],
   "source": [
    "# Generate data according to a mixture of factor analysis (MFA) model\n",
    "np.random.seed(seed_rng)\n",
    "\n",
    "# number of mixture components\n",
    "n_components = 10\n",
    "# dimension of the observed space\n",
    "dim = 100\n",
    "# dimension of the latent space\n",
    "dim_latent = 2\n",
    "dim_latent_range = (10, 20)\n",
    "model = MFA_model(n_components, dim, dim_latent_range=dim_latent_range, seed_rng=seed_rng)\n",
    "\n",
    "# Generate data from the model\n",
    "N = 1000\n",
    "N_test = 100\n",
    "data, labels = model.generate_data(N)\n",
    "data_test, labels_test = model.generate_data(N_test)"
   ]
  },
  {
   "cell_type": "code",
   "execution_count": 5,
   "metadata": {},
   "outputs": [
    {
     "name": "stdout",
     "output_type": "stream",
     "text": [
      "Thu Nov 28 21:19:09 2019 Building RP forest with 7 trees\n",
      "Thu Nov 28 21:19:10 2019 parallel NN descent for 10 iterations\n",
      "\t 0  /  10\n",
      "\t 1  /  10\n",
      "\t 2  /  10\n"
     ]
    }
   ],
   "source": [
    "# Construct an approximate nearest neighbor (ANN) index to query nearest neighbors\n",
    "params = {\n",
    "    'metric': metric_primary, \n",
    "    'n_neighbors': n_neighbors,\n",
    "    'rho': rho,\n",
    "    'random_state': seed_rng,\n",
    "    'n_jobs': num_proc, \n",
    "    'verbose': True\n",
    "}\n",
    "index = NNDescent(data, **params)"
   ]
  },
  {
   "cell_type": "code",
   "execution_count": 6,
   "metadata": {},
   "outputs": [],
   "source": [
    "# Query the K nearest neighbors of each point. \n",
    "# Since each point will be selected as its own nearest neighbor, we query for `K+1` neighbors and ignore the self neighbors\n",
    "nn_indices, nn_distances = index.query(data, k=(K + 1))\n",
    "\n",
    "# Remove each point from its own neighborhood set\n",
    "nn_indices, nn_distances = remove_self_neighbors(nn_indices, nn_distances)\n",
    "data_neighbors = nn_indices\n"
   ]
  },
  {
   "cell_type": "code",
   "execution_count": 7,
   "metadata": {
    "scrolled": false
   },
   "outputs": [
    {
     "name": "stdout",
     "output_type": "stream",
     "text": [
      "CPU times: user 2 µs, sys: 1 µs, total: 3 µs\n",
      "Wall time: 5.25 µs\n",
      "Thu Nov 28 21:19:14 2019 Building RP forest with 7 trees\n",
      "Thu Nov 28 21:19:14 2019 parallel NN descent for 10 iterations\n",
      "\t 0  /  10\n",
      "\t 1  /  10\n",
      "\t 2  /  10\n",
      "\t 3  /  10\n"
     ]
    }
   ],
   "source": [
    "%time\n",
    "# Construct another ANN index based on the SNN distance metric\n",
    "params = {\n",
    "    'metric': distance_SNN, \n",
    "    'n_neighbors': n_neighbors,\n",
    "    'rho': rho,\n",
    "    'random_state': seed_rng,\n",
    "    'n_jobs': num_proc, \n",
    "    'verbose': True\n",
    "}\n",
    "index_snn = NNDescent(data_neighbors, **params)"
   ]
  },
  {
   "cell_type": "code",
   "execution_count": 8,
   "metadata": {
    "scrolled": true
   },
   "outputs": [
    {
     "name": "stdout",
     "output_type": "stream",
     "text": [
      "Overlap in the nearest neighbors found based on the primary and SNN distance metrics:\n",
      "[ 65 130 138 153 228 264 271 301 369 608 636]\n",
      "[  4 134 214 242 360 412 480 619 632 745 755 762 781]\n",
      "[100 267 282 314 339 364 450 652]\n",
      "[ 64  68 115 218 485 593 626 641 658 929 970]\n",
      "[  1  78 214 360 490 619 632 755 781 832]\n"
     ]
    }
   ],
   "source": [
    "# Query the K nearest neighbors of each point based on the SNN distance \n",
    "nn_indices_snn, nn_distances_snn = index_snn.query(data_neighbors, k=(K + 1))\n",
    "\n",
    "# Remove each point from its own neighborhood set\n",
    "nn_indices_snn, nn_distances_snn = remove_self_neighbors(nn_indices_snn, nn_distances_snn)\n",
    "\n",
    "print(\"Overlap in the nearest neighbors found based on the primary and SNN distance metrics:\")\n",
    "for i in range(5):\n",
    "    ind = np.intersect1d(nn_indices[i, :], nn_indices_snn[i, :], assume_unique=True)\n",
    "    print(ind)\n"
   ]
  }
 ],
 "metadata": {
  "kernelspec": {
   "display_name": "Python 3",
   "language": "python",
   "name": "python3"
  },
  "language_info": {
   "codemirror_mode": {
    "name": "ipython",
    "version": 3
   },
   "file_extension": ".py",
   "mimetype": "text/x-python",
   "name": "python",
   "nbconvert_exporter": "python",
   "pygments_lexer": "ipython3",
   "version": "3.7.4"
  }
 },
 "nbformat": 4,
 "nbformat_minor": 2
}
