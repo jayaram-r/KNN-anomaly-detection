{
 "cells": [
  {
   "cell_type": "markdown",
   "metadata": {},
   "source": [
    "Evaluating the anomaly detection method based on (averaged) localized p-value estimation (aK-LPE) proposed in [1] and [2].\n",
    "\n",
    "1. K-LPE method:  \n",
    "Zhao, Manqi, and Venkatesh Saligrama. \"Anomaly detection with score functions based on nearest neighbor graphs.\"\n",
    "Advances in neural information processing systems. 2009.\n",
    "\n",
    "1. Averaged K-LPE method:  \n",
    "Qian, Jing, and Venkatesh Saligrama. \"New statistic in p-value estimation for anomaly detection.\"\n",
    "IEEE Statistical Signal Processing Workshop (SSP). IEEE, 2012."
   ]
  },
  {
   "cell_type": "code",
   "execution_count": 1,
   "metadata": {},
   "outputs": [],
   "source": [
    "import numpy as np\n",
    "from multiprocessing import cpu_count\n",
    "from generate_data import MFA_model\n",
    "from localized_pvalue_estimation import averaged_KLPE_anomaly_detection\n",
    "from sklearn.metrics import (\n",
    "    roc_curve,\n",
    "    roc_auc_score, \n",
    "    average_precision_score, \n",
    "    precision_recall_curve\n",
    ")\n",
    "import matplotlib.pyplot as plt\n",
    "\n",
    "%matplotlib inline"
   ]
  },
  {
   "cell_type": "code",
   "execution_count": 2,
   "metadata": {},
   "outputs": [],
   "source": [
    "# Define some constants\n",
    "n_jobs = max(cpu_count() - 2, 1)\n",
    "seed_rng = np.random.randint(1, high=10000)\n",
    "metric_primary = 'euclidean'\n",
    "shared_nearest_neighbors = False\n",
    "# Neighborhood size is chosen as a function of the number of data points. \n",
    "# In [1], it is recommended to chose `k = n^{2 / 5} = n^0.4`\n",
    "neighborhood_constant = 0.4"
   ]
  },
  {
   "cell_type": "code",
   "execution_count": 3,
   "metadata": {},
   "outputs": [],
   "source": [
    "# Generate data according to a mixture of factor analysis (MFA) model\n",
    "np.random.seed(seed_rng)\n",
    "\n",
    "# number of mixture components\n",
    "n_components = 10\n",
    "# dimension of the observed space\n",
    "dim = 100\n",
    "\n",
    "# dimension of the latent space. This determines the local intrinsic dimension\n",
    "# dim_latent = 10\n",
    "# model = MFA_model(n_components, dim, dim_latent=dim_latent, seed_rng=seed_rng)\n",
    "\n",
    "# Can specify a range for the latent dimension instead of a single value\n",
    "dim_latent_range = (10, 20)\n",
    "model = MFA_model(n_components, dim, dim_latent_range=dim_latent_range, seed_rng=seed_rng)\n",
    "\n",
    "# Generate nominal data from the MFA model\n",
    "N = 1000\n",
    "data, _ = model.generate_data(N)\n",
    "\n",
    "# Generate a mixture of nominal and anomalous data as the test set\n",
    "N_test_nom = 900\n",
    "N_test_anom = 100\n",
    "N_test = N_test_nom + N_test_anom\n",
    "data_nom, _ = model.generate_data(N_test_nom)\n",
    "\n",
    "# Anomalous points are generated either from a uniform distribution or a Gaussian distribution\n",
    "x_min = np.min(data, axis=0)\n",
    "x_max = np.max(data, axis=0)\n",
    "x_mean = np.mean(data, axis=0)\n",
    "x_std = np.std(data, axis=0)\n",
    "data_anom = np.zeros((N_test_anom, dim))\n",
    "for i in range(dim):\n",
    "    # data_anom[:, i] = np.random.uniform(low=x_min[i], high=x_max[i], size=N_test_anom)\n",
    "    data_anom[:, i] = np.random.normal(loc=x_mean[i], scale=x_std[i], size=N_test_anom)\n",
    "    \n",
    "data_test = np.concatenate([data_nom, data_anom], axis=0)\n",
    "labels_test = np.concatenate([np.zeros(N_test_nom, dtype=np.int), \n",
    "                              np.ones(N_test_anom, dtype=np.int)])"
   ]
  },
  {
   "cell_type": "code",
   "execution_count": 4,
   "metadata": {},
   "outputs": [],
   "source": [
    "# Initialize the anomaly detection (AD) model\n",
    "detector = averaged_KLPE_anomaly_detection(\n",
    "    neighborhood_constant=0.4, \n",
    "    n_neighbors=None, \n",
    "    metric=metric_primary, \n",
    "    metric_kwargs=None,\n",
    "    shared_nearest_neighbors=shared_nearest_neighbors, \n",
    "    approx_nearest_neighbors=True,\n",
    "    n_jobs=n_jobs, \n",
    "    seed_rng=seed_rng\n",
    ")"
   ]
  },
  {
   "cell_type": "code",
   "execution_count": 5,
   "metadata": {},
   "outputs": [],
   "source": [
    "# Fit the AD model to the nominal training data\n",
    "detector.fit(data)"
   ]
  },
  {
   "cell_type": "code",
   "execution_count": 6,
   "metadata": {},
   "outputs": [],
   "source": [
    "# Calculate the anomaly score of the test data\n",
    "scores_test = detector.score(data_test)"
   ]
  },
  {
   "cell_type": "code",
   "execution_count": 7,
   "metadata": {},
   "outputs": [
    {
     "name": "stdout",
     "output_type": "stream",
     "text": [
      "Area under the ROC curve = 0.992722\n",
      "Partial area under the ROC curve below FPR of 0.01 = 0.702680\n",
      "Average precision = 0.893104\n"
     ]
    }
   ],
   "source": [
    "# Calculate some performance metrics\n",
    "au_roc = roc_auc_score(labels_test, scores_test)\n",
    "au_roc_partial = roc_auc_score(labels_test, scores_test, max_fpr=0.01)\n",
    "avg_prec = average_precision_score(labels_test, scores_test)\n",
    "print(\"Area under the ROC curve = {:.6f}\".format(au_roc))\n",
    "print(\"Partial area under the ROC curve below FPR of 0.01 = {:.6f}\".format(au_roc_partial))\n",
    "print(\"Average precision = {:.6f}\".format(avg_prec))"
   ]
  },
  {
   "cell_type": "code",
   "execution_count": 8,
   "metadata": {},
   "outputs": [
    {
     "name": "stdout",
     "output_type": "stream",
     "text": [
      "TPR, FPR\n",
      "0.000000, 0.001111\n",
      "0.490000, 0.006667\n",
      "0.740000, 0.010000\n",
      "1.000000, 0.050000\n"
     ]
    }
   ],
   "source": [
    "# ROC curve and TPR at a few low FPR values\n",
    "fpr_arr, tpr_arr, thresh = roc_curve(labels_test, scores_test, pos_label=1)\n",
    "fpr_thresh = [0.001, 0.005, 0.01, 0.05]\n",
    "print(\"TPR, FPR\")\n",
    "for a in fpr_thresh:\n",
    "    mask = fpr_arr >= a\n",
    "    tpr = tpr_arr[mask][0]\n",
    "    fpr = fpr_arr[mask][0]\n",
    "    print(\"{:.6f}, {:.6f}\".format(tpr, fpr))"
   ]
  },
  {
   "cell_type": "code",
   "execution_count": 9,
   "metadata": {
    "scrolled": true
   },
   "outputs": [
    {
     "data": {
      "image/png": "[encoded data removed]",
      "text/plain": [
       "<Figure size 432x288 with 1 Axes>"
      ]
     },
     "metadata": {
      "needs_background": "light"
     },
     "output_type": "display_data"
    }
   ],
   "source": [
    "# ROC curve\n",
    "fig = plt.figure()\n",
    "ls = \"AUC = {:.4f}, pAUC-0.01 = {:.6f}\".format(au_roc, au_roc_partial)\n",
    "plt.plot(fpr_arr, tpr_arr, linestyle='--', color='r', marker='.', label=ls)\n",
    "plt.xlabel('FPR', fontweight='bold')\n",
    "plt.ylabel('TPR', fontweight='bold')\n",
    "plt.xlim([0.0, 0.2])\n",
    "plt.ylim([0.0, 1.01])\n",
    "plt.title('Partial ROC curve', fontweight='bold')\n",
    "plt.legend(loc='lower right')\n",
    "plt.grid(True)\n",
    "plt.show()"
   ]
  },
  {
   "cell_type": "code",
   "execution_count": 10,
   "metadata": {},
   "outputs": [
    {
     "data": {
      "image/png": "[encoded data removed]",
      "text/plain": [
       "<Figure size 432x288 with 1 Axes>"
      ]
     },
     "metadata": {
      "needs_background": "light"
     },
     "output_type": "display_data"
    }
   ],
   "source": [
    "# Precision-Recall curve\n",
    "precision_arr, recall_arr, _ = precision_recall_curve(labels_test, scores_test, pos_label=1)\n",
    "\n",
    "fig = plt.figure()\n",
    "ls = \"Average-precision = {:.6f}\".format(avg_prec)\n",
    "plt.plot(recall_arr, precision_arr, linestyle='--', color='r', marker='.', label=ls)\n",
    "plt.xlabel('Recall', fontweight='bold')\n",
    "plt.ylabel('Precision', fontweight='bold')\n",
    "plt.xlim([0.0, 1.0])\n",
    "plt.ylim([0.0, 1.01])\n",
    "plt.title('Precision-Recall curve', fontweight='bold')\n",
    "plt.legend(loc='lower right')\n",
    "plt.grid(True)\n",
    "plt.show()"
   ]
  }
 ],
 "metadata": {
  "kernelspec": {
   "display_name": "Python 3",
   "language": "python",
   "name": "python3"
  },
  "language_info": {
   "codemirror_mode": {
    "name": "ipython",
    "version": 3
   },
   "file_extension": ".py",
   "mimetype": "text/x-python",
   "name": "python",
   "nbconvert_exporter": "python",
   "pygments_lexer": "ipython3",
   "version": "3.7.4"
  }
 },
 "nbformat": 4,
 "nbformat_minor": 2
}
