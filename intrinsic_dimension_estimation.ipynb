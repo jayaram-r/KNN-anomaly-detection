{
 "cells": [
  {
   "cell_type": "markdown",
   "metadata": {},
   "source": [
    "Exploring some intrinsic dimension (ID) estimators for high-dimensional data.\n",
    "\n",
    "### References\n",
    "1. Ma, Xingjun, et al. \"Characterizing adversarial subspaces using local intrinsic dimensionality.\" arXiv preprint arXiv:1801.02613 (2018).\n",
    "1. Ansuini, Alessio, et al. \"Intrinsic dimension of data representations in deep neural networks.\" arXiv preprint arXiv:1905.12784 (2019).\n",
    "1. Carter, Kevin M., Raviv Raich, and Alfred O. Hero III. \"On local intrinsic dimension estimation and its applications.\" IEEE Transactions on Signal Processing 58.2 (2009): 650-663.\n",
    "1. Levina, Elizaveta, and Peter J. Bickel. \"Maximum likelihood estimation of intrinsic dimension.\" Advances in neural information processing systems. 2005.\n",
    "1. Facco, Elena, et al. \"Estimating the intrinsic dimension of datasets by a minimal neighborhood information.\" Scientific reports 7.1 (2017): 12140."
   ]
  },
  {
   "cell_type": "markdown",
   "metadata": {},
   "source": [
    "#### Two-NN estimate of ID [5], [2]"
   ]
  }
 ],
 "metadata": {
  "kernelspec": {
   "display_name": "Python 3",
   "language": "python",
   "name": "python3"
  },
  "language_info": {
   "codemirror_mode": {
    "name": "ipython",
    "version": 3
   },
   "file_extension": ".py",
   "mimetype": "text/x-python",
   "name": "python",
   "nbconvert_exporter": "python",
   "pygments_lexer": "ipython3",
   "version": "3.7.4"
  }
 },
 "nbformat": 4,
 "nbformat_minor": 2
}
