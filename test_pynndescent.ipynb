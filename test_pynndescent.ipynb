{
 "cells": [
  {
   "cell_type": "markdown",
   "metadata": {},
   "source": [
    "### Approximate nearest neighbor search based on the NN-descent method.\n",
    "**Paper:**  \n",
    "Dong, Wei, Charikar Moses, and Kai Li. \"Efficient k-nearest neighbor graph construction for generic similarity measures.\" Proceedings of the 20th international conference on World wide web. ACM, 2011.  \n",
    "https://www.cs.princeton.edu/cass/papers/www11.pdf  \n",
    "\n",
    "**Code:** https://github.com/lmcinnes/pynndescent  \n",
    "\n",
    "Documentation of the NNDescent class can be found here:  \n",
    "https://github.com/lmcinnes/pynndescent/blob/master/pynndescent/pynndescent_.py#L462\n",
    "\n",
    "Some important parameters are listed below:  \n",
    "`n_neighbors`:  \n",
    "Number of neighbors to use in the KNN graph data structure. Default is 15. \n",
    "Larger values will result in more accurate search results at the cost of computation time. In the paper they \n",
    "show that a larger number of neighbors is needed as the intrinsic dimension of the data increases. They used \n",
    "a value of 50 for some data sets with high intrinsic dimensionality.\n",
    "\n",
    "`rho`:  \n",
    "The sample rate parameter of the algorithm. In the paper, they use a value of `1.0` to get high recall and \n",
    "`0.5` for faster results with lower recall. The default value is `0.5`.\n",
    "\n",
    "`metric`:  \n",
    "The metric to use for computing distances. Choose from the large list of available metrics or define \n",
    "a custom metric as a callable function that is numba JIT compiled.\n",
    "\n",
    "`n_trees`:  \n",
    "Number of trees in the random projection forest. A larger value will result in more accurate neighbor \n",
    "computation at the cost of performance. The default of None means a value will be chosen based on the \n",
    "size of the data. The default value is given by `5 + int(round(data.shape[0] ** 0.5 / 20.0))`. \n",
    "\n",
    "`n_jobs`:  \n",
    "The number of parallel jobs to run for the neighborhood index construction. Default value is `None` \n",
    "which sets it to 1. To use all the available processors, set it to `-1`.\n",
    "\n",
    "For best results, the parameters `n_neighbors` and `rho` should be tuned using grid search."
   ]
  },
  {
   "cell_type": "code",
   "execution_count": 1,
   "metadata": {},
   "outputs": [],
   "source": [
    "import numpy as np\n",
    "from pprint import pprint\n",
    "from pynndescent import NNDescent\n",
    "from sklearn.neighbors import NearestNeighbors\n",
    "from multiprocessing import cpu_count"
   ]
  },
  {
   "cell_type": "code",
   "execution_count": 2,
   "metadata": {},
   "outputs": [],
   "source": [
    "num_proc = max(cpu_count() - 2, 1)\n",
    "seed_rng = np.random.randint(1, high=1001)\n",
    "np.random.seed(seed_rng)\n",
    "N = 100\n",
    "d = 5\n",
    "data = np.random.randn(N, d)\n",
    "n_trees_def = 5 + int(np.round((data.shape[0] ** 0.5) / 20.0))\n",
    "params = {\n",
    "    'metric': 'euclidean', \n",
    "    'n_neighbors': 20, \n",
    "    'rho': 0.5,\n",
    "    'n_trees': None,\n",
    "    'random_state': seed_rng, \n",
    "    'n_jobs': num_proc, \n",
    "    'verbose': True\n",
    "}"
   ]
  },
  {
   "cell_type": "code",
   "execution_count": 3,
   "metadata": {},
   "outputs": [
    {
     "name": "stdout",
     "output_type": "stream",
     "text": [
      "CPU times: user 2 µs, sys: 0 ns, total: 2 µs\n",
      "Wall time: 5.25 µs\n",
      "Thu Nov 14 03:36:15 2019 Building RP forest with 5 trees\n",
      "Thu Nov 14 03:36:16 2019 parallel NN descent for 7 iterations\n",
      "\t 0  /  7\n",
      "\t 1  /  7\n",
      "dict_keys(['n_trees', 'n_neighbors', 'metric', 'metric_kwds', 'leaf_size', 'prune_level', 'max_candidates', 'low_memory', 'n_iters', 'delta', 'rho', 'dim', 'verbose', '_raw_data', 'tree_init', '_dist_args', 'random_state', '_distance_func', '_angular_trees', 'rng_state', '_rp_forest', '_is_sparse', '_neighbor_graph'])\n",
      "(100, 20) (100, 20)\n"
     ]
    }
   ],
   "source": [
    "%time\n",
    "index = NNDescent(data, **params)\n",
    "pprint(index.__dict__.keys())\n",
    "nn_indices_data, nn_distances_data = index._neighbor_graph\n",
    "print(nn_indices_data.shape, nn_distances_data.shape)"
   ]
  },
  {
   "cell_type": "code",
   "execution_count": 4,
   "metadata": {},
   "outputs": [
    {
     "name": "stdout",
     "output_type": "stream",
     "text": [
      "[[32 13 99 67 14]\n",
      " [12 66  3 70 38]\n",
      " [ 4 21 96 69 30]\n",
      " [70  3 58 17 66]\n",
      " [55 58 13 44 68]]\n"
     ]
    }
   ],
   "source": [
    "# Find the 5 nearest neighbors of query points\n",
    "k = 5\n",
    "x = np.random.randn(5, d)\n",
    "nn_indices, nn_distances = index.query(x, k=k)\n",
    "# `nn_indices` should be an array with the index of the nearest neighbors corresponding to each query point.\n",
    "# Suppose `x` has shape `(m, d)`, then `nn_indices` will have shape `(m, k)`.\n",
    "print(nn_indices)\n",
    "\n",
    "# `nn_distances` has the same shape as `nn_indices` and it has the corresponding distances\n",
    "# print(nn_distances)"
   ]
  },
  {
   "cell_type": "code",
   "execution_count": 5,
   "metadata": {},
   "outputs": [
    {
     "name": "stdout",
     "output_type": "stream",
     "text": [
      "[[32 13 99 67 14]\n",
      " [12 66  3 70 38]\n",
      " [ 4 21 96 69 30]\n",
      " [70  3 58 17 66]\n",
      " [55 58 13 44 68]]\n"
     ]
    }
   ],
   "source": [
    "# Use brute force nearest neighbor search for comparison with the ANN method\n",
    "neigh = NearestNeighbors(n_neighbors=k, algorithm='brute', p=2, n_jobs=num_proc)\n",
    "neigh.fit(data)\n",
    "_, nn_indices_true = neigh.kneighbors(x)\n",
    "print(nn_indices_true)"
   ]
  },
  {
   "cell_type": "code",
   "execution_count": 6,
   "metadata": {},
   "outputs": [],
   "source": [
    "# Generate more complex data using a mixture of factor analyzers (MFA) model\n",
    "from generate_data import MFA_model\n",
    "\n",
    "# Define the MFA model\n",
    "n_components = 10\n",
    "dim = 100\n",
    "dim_latent = 2\n",
    "dim_latent_range = (10, 20)\n",
    "model = MFA_model(n_components, dim, dim_latent_range=dim_latent_range, seed_rng=seed_rng)\n",
    "\n",
    "# Generate data from the model\n",
    "N = 1000\n",
    "N_test = 100\n",
    "k = 5\n",
    "data, labels = model.generate_data(N)\n",
    "data_test, labels_test = model.generate_data(N_test)"
   ]
  },
  {
   "cell_type": "code",
   "execution_count": 7,
   "metadata": {
    "scrolled": true
   },
   "outputs": [
    {
     "name": "stdout",
     "output_type": "stream",
     "text": [
      "CPU times: user 2 µs, sys: 1e+03 ns, total: 3 µs\n",
      "Wall time: 5.25 µs\n",
      "Thu Nov 14 03:36:21 2019 Building RP forest with 7 trees\n",
      "Thu Nov 14 03:36:21 2019 parallel NN descent for 10 iterations\n",
      "\t 0  /  10\n",
      "\t 1  /  10\n",
      "\t 2  /  10\n",
      "\t 3  /  10\n"
     ]
    }
   ],
   "source": [
    "%time\n",
    "# Construct the ANN index\n",
    "params = {\n",
    "    'metric': 'euclidean', \n",
    "    'n_neighbors': 20,\n",
    "    'rho': 0.5,\n",
    "    'n_trees': None,\n",
    "    'random_state': seed_rng, \n",
    "    'n_jobs': num_proc, \n",
    "    'verbose': True\n",
    "}\n",
    "index = NNDescent(data, **params)"
   ]
  },
  {
   "cell_type": "code",
   "execution_count": 8,
   "metadata": {},
   "outputs": [
    {
     "name": "stdout",
     "output_type": "stream",
     "text": [
      "CPU times: user 14 µs, sys: 1 µs, total: 15 µs\n",
      "Wall time: 4.77 µs\n"
     ]
    },
    {
     "data": {
      "text/plain": [
       "NearestNeighbors(algorithm='brute', leaf_size=30, metric='minkowski',\n",
       "         metric_params=None, n_jobs=10, n_neighbors=5, p=2, radius=1.0)"
      ]
     },
     "execution_count": 8,
     "metadata": {},
     "output_type": "execute_result"
    }
   ],
   "source": [
    "%time\n",
    "# Construct the exact KNN graph\n",
    "neigh = NearestNeighbors(n_neighbors=k, algorithm='brute', p=2, n_jobs=num_proc)\n",
    "neigh.fit(data)"
   ]
  },
  {
   "cell_type": "code",
   "execution_count": 9,
   "metadata": {},
   "outputs": [
    {
     "name": "stdout",
     "output_type": "stream",
     "text": [
      "CPU times: user 1e+03 ns, sys: 0 ns, total: 1e+03 ns\n",
      "Wall time: 4.05 µs\n"
     ]
    }
   ],
   "source": [
    "%time\n",
    "# Query the ANN index and compare with the exact nearest neighbors\n",
    "nn_indices, _ = index.query(data_test, k=k)"
   ]
  },
  {
   "cell_type": "code",
   "execution_count": 10,
   "metadata": {},
   "outputs": [
    {
     "name": "stdout",
     "output_type": "stream",
     "text": [
      "CPU times: user 1 µs, sys: 0 ns, total: 1 µs\n",
      "Wall time: 3.81 µs\n"
     ]
    }
   ],
   "source": [
    "%time\n",
    "# Query the exact nearest neighbors\n",
    "_, nn_indices_true = neigh.kneighbors(data_test)"
   ]
  },
  {
   "cell_type": "code",
   "execution_count": 11,
   "metadata": {},
   "outputs": [
    {
     "name": "stdout",
     "output_type": "stream",
     "text": [
      "Average recall over the query points = 1.0\n"
     ]
    }
   ],
   "source": [
    "# Calculate the recall of the ANN method, i.e. the fraction of neearest neighbors that are correctly retrieved,\n",
    "# averaged over all the query points\n",
    "arr1 = np.array(nn_indices, dtype=np.int)\n",
    "arr2 = np.array(nn_indices_true, dtype=np.int)\n",
    "recall_per_point = (1. / k) * np.sum(arr1 == arr2, axis=1)\n",
    "recall = np.sum(recall_per_point) / N_test\n",
    "print(\"Average recall over the query points = {}\".format(recall))"
   ]
  }
 ],
 "metadata": {
  "kernelspec": {
   "display_name": "Python 3",
   "language": "python",
   "name": "python3"
  },
  "language_info": {
   "codemirror_mode": {
    "name": "ipython",
    "version": 3
   },
   "file_extension": ".py",
   "mimetype": "text/x-python",
   "name": "python",
   "nbconvert_exporter": "python",
   "pygments_lexer": "ipython3",
   "version": "3.7.3"
  }
 },
 "nbformat": 4,
 "nbformat_minor": 2
}
